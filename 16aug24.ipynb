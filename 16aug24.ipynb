{
 "cells": [
  {
   "cell_type": "code",
   "execution_count": 22,
   "id": "f9a90c5c",
   "metadata": {},
   "outputs": [
    {
     "name": "stdout",
     "output_type": "stream",
     "text": [
      "anand\n",
      "a\n"
     ]
    }
   ],
   "source": [
    "a=\"anand\"\n",
    "print(a)\n",
    "print(a[:-2:5])"
   ]
  },
  {
   "cell_type": "code",
   "execution_count": 2,
   "id": "2cd454ac",
   "metadata": {},
   "outputs": [
    {
     "ename": "NameError",
     "evalue": "name 'reverse_string' is not defined",
     "output_type": "error",
     "traceback": [
      "\u001b[1;31m---------------------------------------------------------------------------\u001b[0m",
      "\u001b[1;31mNameError\u001b[0m                                 Traceback (most recent call last)",
      "Cell \u001b[1;32mIn[2], line 2\u001b[0m\n\u001b[0;32m      1\u001b[0m string\u001b[38;5;241m=\u001b[39m\u001b[38;5;124m\"\u001b[39m\u001b[38;5;124manand\u001b[39m\u001b[38;5;124m\"\u001b[39m\n\u001b[1;32m----> 2\u001b[0m reversed_string\u001b[38;5;241m=\u001b[39mreverse_string(string)\n\u001b[0;32m      3\u001b[0m \u001b[38;5;28mprint\u001b[39m(reversed_string)\n",
      "\u001b[1;31mNameError\u001b[0m: name 'reverse_string' is not defined"
     ]
    }
   ],
   "source": [
    "string=\"anand\"\n",
    "reversed_string=reverse_string(string)\n",
    "print(reversed_string)"
   ]
  },
  {
   "cell_type": "code",
   "execution_count": 51,
   "id": "849dd281",
   "metadata": {},
   "outputs": [],
   "source": [
    "def a(anand):\n",
    "    a=\" \"\n",
    "    for i in range(len(anand)-1,-1,-1):\n",
    "        a+=anand[i]\n",
    "    return a\n"
   ]
  },
  {
   "cell_type": "code",
   "execution_count": 53,
   "id": "09fa66bb",
   "metadata": {},
   "outputs": [
    {
     "data": {
      "text/plain": [
       "' hsihsa'"
      ]
     },
     "execution_count": 53,
     "metadata": {},
     "output_type": "execute_result"
    }
   ],
   "source": [
    "a(\"ashish\")"
   ]
  },
  {
   "cell_type": "code",
   "execution_count": 24,
   "id": "aa729de4",
   "metadata": {},
   "outputs": [],
   "source": [
    "b = \"anand\""
   ]
  },
  {
   "cell_type": "code",
   "execution_count": 25,
   "id": "b233ef09",
   "metadata": {},
   "outputs": [
    {
     "data": {
      "text/plain": [
       "5"
      ]
     },
     "execution_count": 25,
     "metadata": {},
     "output_type": "execute_result"
    }
   ],
   "source": [
    "len(b)"
   ]
  },
  {
   "cell_type": "code",
   "execution_count": 62,
   "id": "777ea8aa",
   "metadata": {},
   "outputs": [],
   "source": [
    "def is_palin(input_string):\n",
    "    start=0\n",
    "    end=len(input_string)-1\n",
    "    while start<end:\n",
    "        if input_string[start]!=input_string[end]:\n",
    "            return False\n",
    "        start +=1\n",
    "        end -=1\n",
    "        return True\n",
    "   "
   ]
  },
  {
   "cell_type": "code",
   "execution_count": 63,
   "id": "7ce52a90",
   "metadata": {},
   "outputs": [
    {
     "name": "stdout",
     "output_type": "stream",
     "text": [
      "kayai is not a palindrome.\n"
     ]
    }
   ],
   "source": [
    " string=\"kayai\"\n",
    "if is_palin(string.lower()):\n",
    "    print(f\"{string} is a palindrome.\")\n",
    "else:\n",
    "    print(f\"{string} is not a palindrome.\")"
   ]
  },
  {
   "cell_type": "code",
   "execution_count": null,
   "id": "ed506663",
   "metadata": {},
   "outputs": [],
   "source": [
    "def  palin(input string):\n",
    "    "
   ]
  },
  {
   "cell_type": "code",
   "execution_count": 74,
   "id": "e350e0cc",
   "metadata": {},
   "outputs": [],
   "source": [
    "def find_lar_ele(lst):\n",
    "    if not lst:\n",
    "        return False\n",
    "    largest = lst[0]\n",
    "    for element in lst:\n",
    "        if  element>largest:\n",
    "            largest=element\n",
    "    return largest\n",
    "    "
   ]
  },
  {
   "cell_type": "code",
   "execution_count": 75,
   "id": "85d70d1c",
   "metadata": {},
   "outputs": [
    {
     "name": "stdout",
     "output_type": "stream",
     "text": [
      "the lar number is :65\n"
     ]
    }
   ],
   "source": [
    "number=[5,60,56,65]\n",
    "lar_number=find_lar_ele(number)\n",
    "print(f\"the lar number is :{lar_number}\")"
   ]
  },
  {
   "cell_type": "code",
   "execution_count": 87,
   "id": "995a7f46",
   "metadata": {},
   "outputs": [],
   "source": [
    "def count_occu(lst):\n",
    "    occu={}\n",
    "    for element in lst:\n",
    "        if element  in occu:\n",
    "            occu[element]+=1\n",
    "        else:\n",
    "                occu[element]=1\n",
    "                \n",
    "    return occu"
   ]
  },
  {
   "cell_type": "code",
   "execution_count": 89,
   "id": "143ae9b7",
   "metadata": {},
   "outputs": [
    {
     "name": "stdout",
     "output_type": "stream",
     "text": [
      "1 occurs 4 time (s)\n",
      "2 occurs 3 time (s)\n",
      "3 occurs 4 time (s)\n",
      "7 occurs 2 time (s)\n"
     ]
    }
   ],
   "source": [
    "number =[1,1,1,1,2,2,2,3,3,3,3,7,7]\n",
    "occu=count_occu(number)\n",
    "for element,count  in occu.items():\n",
    "    print(f\"{element} occurs {count} time (s)\")"
   ]
  },
  {
   "cell_type": "code",
   "execution_count": null,
   "id": "408b3297",
   "metadata": {},
   "outputs": [],
   "source": []
  }
 ],
 "metadata": {
  "kernelspec": {
   "display_name": "Python 3 (ipykernel)",
   "language": "python",
   "name": "python3"
  },
  "language_info": {
   "codemirror_mode": {
    "name": "ipython",
    "version": 3
   },
   "file_extension": ".py",
   "mimetype": "text/x-python",
   "name": "python",
   "nbconvert_exporter": "python",
   "pygments_lexer": "ipython3",
   "version": "3.11.5"
  }
 },
 "nbformat": 4,
 "nbformat_minor": 5
}
